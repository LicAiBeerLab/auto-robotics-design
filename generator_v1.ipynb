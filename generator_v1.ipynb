{
 "cells": [
  {
   "cell_type": "code",
   "execution_count": 1,
   "metadata": {},
   "outputs": [
    {
     "name": "stderr",
     "output_type": "stream",
     "text": [
      "/home/yefim-work/Documents/Be2rLab/CoDesign/auto-robotics-design/auto_robot_design.generator/respawn_algorithm.py:79: RuntimeWarning: invalid value encountered in divide\n",
      "  + ort_direction\n"
     ]
    },
    {
     "ename": "KeyError",
     "evalue": "JointPoint(r=array([nan, nan, nan]), w=array([0, 1, 0]), active=False, attach_ground=False, attach_endeffector=False, name='J7_2_0', instance_counter=0)",
     "output_type": "error",
     "traceback": [
      "\u001b[0;31m---------------------------------------------------------------------------\u001b[0m",
      "\u001b[0;31mKeyError\u001b[0m                                  Traceback (most recent call last)",
      "Cell \u001b[0;32mIn[1], line 7\u001b[0m\n\u001b[1;32m      5\u001b[0m     body_counter \u001b[38;5;241m=\u001b[39m \u001b[38;5;241m0\u001b[39m\n\u001b[1;32m      6\u001b[0m     joint_counter \u001b[38;5;241m=\u001b[39m \u001b[38;5;241m0\u001b[39m\n\u001b[0;32m----> 7\u001b[0m     graph \u001b[38;5;241m=\u001b[39m \u001b[43mgenerate_graph\u001b[49m\u001b[43m(\u001b[49m\u001b[43m)\u001b[49m\n\u001b[1;32m      9\u001b[0m \u001b[38;5;28;01mif\u001b[39;00m graph:\n\u001b[1;32m     10\u001b[0m     draw_joint_point(graph)\n",
      "File \u001b[0;32m~/Documents/Be2rLab/CoDesign/auto-robotics-design/generator/respawn_algorithm.py:304\u001b[0m, in \u001b[0;36mgenerate_graph\u001b[0;34m()\u001b[0m\n\u001b[1;32m    302\u001b[0m     sample_dof_reduction \u001b[38;5;241m=\u001b[39m np\u001b[38;5;241m.\u001b[39mrandom\u001b[38;5;241m.\u001b[39mrandint(\u001b[38;5;241m1\u001b[39m, dof \u001b[38;5;241m-\u001b[39m \u001b[38;5;241m1\u001b[39m)\n\u001b[1;32m    303\u001b[0m i \u001b[38;5;241m=\u001b[39m \u001b[38;5;241m0\u001b[39m\n\u001b[0;32m--> 304\u001b[0m \u001b[38;5;28;01mwhile\u001b[39;00m \u001b[38;5;129;01mnot\u001b[39;00m \u001b[43mgenerator\u001b[49m\u001b[38;5;241;43m.\u001b[39;49m\u001b[43msample_secondary_branch\u001b[49m\u001b[43m(\u001b[49m\n\u001b[1;32m    305\u001b[0m \u001b[43m    \u001b[49m\u001b[43mgraph\u001b[49m\u001b[43m,\u001b[49m\u001b[43m \u001b[49m\u001b[43mmain_branch\u001b[49m\u001b[43m,\u001b[49m\u001b[43m \u001b[49m\u001b[43mbranch_id\u001b[49m\u001b[38;5;241;43m=\u001b[39;49m\u001b[43mb_idx\u001b[49m\u001b[43m,\u001b[49m\u001b[43m \u001b[49m\u001b[43mdof_reduction\u001b[49m\u001b[38;5;241;43m=\u001b[39;49m\u001b[38;5;241;43m-\u001b[39;49m\u001b[43msample_dof_reduction\u001b[49m\n\u001b[1;32m    306\u001b[0m \u001b[43m\u001b[49m\u001b[43m)\u001b[49m:\n\u001b[1;32m    307\u001b[0m     \u001b[38;5;28;01mif\u001b[39;00m i \u001b[38;5;241m>\u001b[39m \u001b[38;5;241m50\u001b[39m:\n\u001b[1;32m    308\u001b[0m         \u001b[38;5;28;01mreturn\u001b[39;00m \u001b[38;5;28;01mFalse\u001b[39;00m\n",
      "File \u001b[0;32m~/Documents/Be2rLab/CoDesign/auto-robotics-design/generator/respawn_algorithm.py:282\u001b[0m, in \u001b[0;36mGenerator.sample_secondary_branch\u001b[0;34m(self, graph, main_branch, length_range, dof_reduction, branch_id)\u001b[0m\n\u001b[1;32m    280\u001b[0m     local_bodies \u001b[38;5;241m+\u001b[39m\u001b[38;5;241m=\u001b[39m \u001b[38;5;241m1\u001b[39m\n\u001b[1;32m    281\u001b[0m     local_joints \u001b[38;5;241m+\u001b[39m\u001b[38;5;241m=\u001b[39m \u001b[38;5;241m2\u001b[39m\n\u001b[0;32m--> 282\u001b[0m     \u001b[43madd_branch\u001b[49m\u001b[43m(\u001b[49m\u001b[43mgraph\u001b[49m\u001b[43m,\u001b[49m\u001b[43m \u001b[49m\u001b[43mnew_branch\u001b[49m\u001b[43m)\u001b[49m\n\u001b[1;32m    283\u001b[0m     delta_dof \u001b[38;5;241m=\u001b[39m \u001b[38;5;241m3\u001b[39m \u001b[38;5;241m*\u001b[39m local_bodies \u001b[38;5;241m-\u001b[39m \u001b[38;5;241m2\u001b[39m \u001b[38;5;241m*\u001b[39m local_joints\n\u001b[1;32m    285\u001b[0m \u001b[38;5;28;01mreturn\u001b[39;00m graph\n",
      "File \u001b[0;32m~/Documents/Be2rLab/CoDesign/auto-robotics-design/description/builder.py:34\u001b[0m, in \u001b[0;36madd_branch\u001b[0;34m(G, branch)\u001b[0m\n\u001b[1;32m     32\u001b[0m \u001b[38;5;28;01melif\u001b[39;00m \u001b[38;5;28misinstance\u001b[39m(branch[i \u001b[38;5;241m+\u001b[39m \u001b[38;5;241m1\u001b[39m], List):\n\u001b[1;32m     33\u001b[0m     \u001b[38;5;28;01mfor\u001b[39;00m b \u001b[38;5;129;01min\u001b[39;00m branch[i \u001b[38;5;241m+\u001b[39m \u001b[38;5;241m1\u001b[39m]:\n\u001b[0;32m---> 34\u001b[0m         \u001b[43mG\u001b[49m\u001b[38;5;241;43m.\u001b[39;49m\u001b[43madd_edge\u001b[49m\u001b[43m(\u001b[49m\u001b[43mbranch\u001b[49m\u001b[43m[\u001b[49m\u001b[43mi\u001b[49m\u001b[43m]\u001b[49m\u001b[43m,\u001b[49m\u001b[43m \u001b[49m\u001b[43mb\u001b[49m\u001b[43m)\u001b[49m\n\u001b[1;32m     35\u001b[0m \u001b[38;5;28;01melse\u001b[39;00m:\n\u001b[1;32m     36\u001b[0m     G\u001b[38;5;241m.\u001b[39madd_edge(branch[i], branch[i \u001b[38;5;241m+\u001b[39m \u001b[38;5;241m1\u001b[39m])\n",
      "File \u001b[0;32m~/miniconda3/envs/auto-robotics-design/lib/python3.11/site-packages/networkx/classes/graph.py:956\u001b[0m, in \u001b[0;36mGraph.add_edge\u001b[0;34m(self, u_of_edge, v_of_edge, **attr)\u001b[0m\n\u001b[1;32m    954\u001b[0m     \u001b[38;5;28mself\u001b[39m\u001b[38;5;241m.\u001b[39m_node[v] \u001b[38;5;241m=\u001b[39m \u001b[38;5;28mself\u001b[39m\u001b[38;5;241m.\u001b[39mnode_attr_dict_factory()\n\u001b[1;32m    955\u001b[0m \u001b[38;5;66;03m# add the edge\u001b[39;00m\n\u001b[0;32m--> 956\u001b[0m datadict \u001b[38;5;241m=\u001b[39m \u001b[38;5;28;43mself\u001b[39;49m\u001b[38;5;241;43m.\u001b[39;49m\u001b[43m_adj\u001b[49m\u001b[43m[\u001b[49m\u001b[43mu\u001b[49m\u001b[43m]\u001b[49m\u001b[38;5;241m.\u001b[39mget(v, \u001b[38;5;28mself\u001b[39m\u001b[38;5;241m.\u001b[39medge_attr_dict_factory())\n\u001b[1;32m    957\u001b[0m datadict\u001b[38;5;241m.\u001b[39mupdate(attr)\n\u001b[1;32m    958\u001b[0m \u001b[38;5;28mself\u001b[39m\u001b[38;5;241m.\u001b[39m_adj[u][v] \u001b[38;5;241m=\u001b[39m datadict\n",
      "\u001b[0;31mKeyError\u001b[0m: JointPoint(r=array([nan, nan, nan]), w=array([0, 1, 0]), active=False, attach_ground=False, attach_endeffector=False, name='J7_2_0', instance_counter=0)"
     ]
    }
   ],
   "source": [
    "from auto_robot_design.description.utils import draw_joint_point\n",
    "from auto_robot_design.generator.respawn_algorithm import generate_graph\n",
    "\n",
    "for i in range(10):\n",
    "    body_counter = 0\n",
    "    joint_counter = 0\n",
    "    graph = generate_graph()\n",
    "\n",
    "if graph:\n",
    "    draw_joint_point(graph)\n",
    "else:\n",
    "    # print(\"Fail!\") "
   ]
  },
  {
   "cell_type": "code",
   "execution_count": 19,
   "metadata": {},
   "outputs": [
    {
     "name": "stdout",
     "output_type": "stream",
     "text": [
      "0\n",
      "1\n",
      "2\n",
      "2\n"
     ]
    }
   ],
   "source": [
    "import numpy as np\n",
    "\n",
    "for i in range(4):\n",
    "    # print(np.random.binomial(i, 0.5))"
   ]
  }
 ],
 "metadata": {
  "kernelspec": {
   "display_name": "mujoco",
   "language": "python",
   "name": "python3"
  },
  "language_info": {
   "codemirror_mode": {
    "name": "ipython",
    "version": 3
   },
   "file_extension": ".py",
   "mimetype": "text/x-python",
   "name": "python",
   "nbconvert_exporter": "python",
   "pygments_lexer": "ipython3",
   "version": "3.11.7"
  }
 },
 "nbformat": 4,
 "nbformat_minor": 2
}
