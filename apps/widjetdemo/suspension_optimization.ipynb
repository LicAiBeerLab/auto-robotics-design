{
 "cells": [
  {
   "cell_type": "code",
   "execution_count": 28,
   "metadata": {},
   "outputs": [],
   "source": [
    "import multiprocessing\n",
    "import numpy as np\n",
    "import matplotlib.pyplot as plt\n",
    "import os\n",
    "import pinocchio as pin\n",
    "\n",
    "from pymoo.core.problem import StarmapParallelization\n",
    "from pymoo.algorithms.moo.age2 import AGEMOEA2\n",
    "from pymoo.decomposition.asf import ASF\n",
    "from pymoo.algorithms.soo.nonconvex.pso import PSO\n",
    "from auto_robot_design.description.utils import draw_joint_point\n",
    "from auto_robot_design.optimization.problems import SingleCriterionProblem\n",
    "from auto_robot_design.optimization.optimizer import PymooOptimizer\n",
    "from auto_robot_design.pinokla.calc_criterion import ActuatedMass, EffectiveInertiaCompute, MovmentSurface, NeutralPoseMass, ManipJacobian\n",
    "from auto_robot_design.pinokla.criterion_agregator import CriteriaAggregator\n",
    "from auto_robot_design.pinokla.default_traj import add_auxilary_points_to_trajectory, convert_x_y_to_6d_traj_xz, get_vertical_trajectory, create_simple_step_trajectory, get_workspace_trajectory\n",
    "from auto_robot_design.optimization.rewards.reward_base import PositioningConstrain, PositioningErrorCalculator, RewardManager\n",
    "from auto_robot_design.optimization.rewards.jacobian_and_inertia_rewards import HeavyLiftingReward, MinAccelerationCapability\n",
    "from auto_robot_design.optimization.rewards.pure_jacobian_rewards import ZRRReward\n",
    "from auto_robot_design.description.builder import ParametrizedBuilder, DetailedURDFCreatorFixedEE, jps_graph2pinocchio_robot, MIT_CHEETAH_PARAMS_DICT\n",
    "from auto_robot_design.generator.topologies.graph_manager_2l import GraphManager2L, get_preset_by_index\n",
    "from auto_robot_design.generator.topologies.bounds_preset import get_preset_by_index_with_bounds\n",
    "from auto_robot_design.optimization.saver import ProblemSaver"
   ]
  },
  {
   "cell_type": "code",
   "execution_count": 29,
   "metadata": {},
   "outputs": [],
   "source": [
    "thickness = MIT_CHEETAH_PARAMS_DICT[\"thickness\"]\n",
    "actuator = MIT_CHEETAH_PARAMS_DICT[\"actuator\"]\n",
    "density = MIT_CHEETAH_PARAMS_DICT[\"density\"]\n",
    "body_density = MIT_CHEETAH_PARAMS_DICT[\"body_density\"]\n",
    "\n",
    "\n",
    "builder = ParametrizedBuilder(DetailedURDFCreatorFixedEE,\n",
    "                              density={\"default\": density, \"G\": body_density},\n",
    "                              thickness={\"default\": thickness, \"EE\": 0.033},\n",
    "                              actuator={\"default\": actuator},\n",
    "                              size_ground=np.array(\n",
    "                                  MIT_CHEETAH_PARAMS_DICT[\"size_ground\"]),\n",
    "                              offset_ground=MIT_CHEETAH_PARAMS_DICT[\"offset_ground_rl\"]\n",
    "                              )"
   ]
  },
  {
   "cell_type": "code",
   "execution_count": 30,
   "metadata": {},
   "outputs": [],
   "source": [
    "# 1) trajectories\n",
    "\n",
    "workspace_trajectory = convert_x_y_to_6d_traj_xz(\n",
    "    *get_workspace_trajectory([-0.12, -0.33], 0.09, 0.24, 30, 60))\n",
    "\n",
    "\n",
    "ground_symmetric_step1 = convert_x_y_to_6d_traj_xz(*add_auxilary_points_to_trajectory(create_simple_step_trajectory(\n",
    "    starting_point=[-0.11, -0.32], step_height=0.07, step_width=0.22, n_points=50)))\n",
    "\n",
    "ground_symmetric_step2 = convert_x_y_to_6d_traj_xz(*add_auxilary_points_to_trajectory(create_simple_step_trajectory(\n",
    "    starting_point=[-0.11 + 0.025, -0.32], step_height=0.06, step_width=-2*(-0.11 + 0.025), n_points=50)))\n",
    "\n",
    "ground_symmetric_step3 = convert_x_y_to_6d_traj_xz(*add_auxilary_points_to_trajectory(create_simple_step_trajectory(\n",
    "    starting_point=[-0.11 + 2 * 0.025, -0.32], step_height=0.05, step_width=-2*(-0.11 + 2 * 0.025), n_points=50)))\n",
    "\n",
    "\n",
    "central_vertical = convert_x_y_to_6d_traj_xz(\n",
    "    *add_auxilary_points_to_trajectory(get_vertical_trajectory(-0.32, 0.075, 0, 50)))\n",
    "\n",
    "left_vertical = convert_x_y_to_6d_traj_xz(\n",
    "    *add_auxilary_points_to_trajectory(get_vertical_trajectory(-0.32, 0.065, -0.09, 50)))\n",
    "\n",
    "right_vertical = convert_x_y_to_6d_traj_xz(\n",
    "    *add_auxilary_points_to_trajectory(get_vertical_trajectory(-0.32, 0.065, 0.09, 50)))\n",
    "\n",
    "\n",
    "# set up special classes for reward calculations\n",
    "error_calculator = PositioningErrorCalculator(\n",
    "    error_key='error', jacobian_key=\"Manip_Jacobian\")\n",
    "# soft_constrain = PositioningConstrain(\n",
    "#     error_calculator=error_calculator, points=[workspace_trajectory])\n",
    "soft_constrain = PositioningConstrain(error_calculator=error_calculator, points = [ground_symmetric_step1])\n",
    "\n"
   ]
  },
  {
   "cell_type": "code",
   "execution_count": 31,
   "metadata": {},
   "outputs": [],
   "source": [
    "# 2) characteristics to be calculated\n",
    "# criteria that either calculated without any reference to points, or calculated through the aggregation of values from all points on trajectory\n",
    "dict_trajectory_criteria = {\n",
    "    \"MASS\": NeutralPoseMass(),\n",
    "}\n",
    "# criteria calculated for each point on the trajectory\n",
    "dict_point_criteria = {\n",
    "    \"Effective_Inertia\": EffectiveInertiaCompute(),\n",
    "    \"Actuated_Mass\": ActuatedMass(),\n",
    "    \"Manip_Jacobian\": ManipJacobian(MovmentSurface.XZ)\n",
    "}\n",
    "# special object that calculates the criteria for a robot and a trajectory\n",
    "crag = CriteriaAggregator(dict_point_criteria, dict_trajectory_criteria)"
   ]
  },
  {
   "cell_type": "code",
   "execution_count": 32,
   "metadata": {},
   "outputs": [],
   "source": [
    "# set the rewards and weights for the optimization task\n",
    "zrr = ZRRReward(manipulability_key='Manip_Jacobian', trajectory_key=\"traj_6d\", error_key=\"error\")"
   ]
  },
  {
   "cell_type": "code",
   "execution_count": 33,
   "metadata": {},
   "outputs": [],
   "source": [
    "reward_manager = RewardManager(crag=crag)\n",
    "reward_manager.add_trajectory(ground_symmetric_step1, 0)\n",
    "reward_manager.add_reward(zrr, 0, 1)"
   ]
  },
  {
   "cell_type": "code",
   "execution_count": 34,
   "metadata": {},
   "outputs": [],
   "source": [
    "pin.seed(1)\n",
    "topology_index = 0\n",
    "gm = get_preset_by_index_with_bounds(topology_index)\n",
    "# activate multiprocessing\n",
    "N_PROCESS = 8\n",
    "pool = multiprocessing.Pool(N_PROCESS)\n",
    "runner = StarmapParallelization(pool.starmap)\n",
    "\n",
    "population_size = 32\n",
    "n_generations = 10\n",
    "\n",
    "# create the problem for the current optimization\n",
    "problem = SingleCriterionProblem(gm, builder, reward_manager,\n",
    "                               soft_constrain, \n",
    "                               elementwise_runner=runner,\n",
    "                                 Actuator=actuator)\n",
    "\n",
    "algorithm = PSO(pop_size=population_size, save_history=True)\n",
    "optimizer = PymooOptimizer(problem, algorithm)"
   ]
  },
  {
   "cell_type": "code",
   "execution_count": 35,
   "metadata": {},
   "outputs": [
    {
     "name": "stdout",
     "output_type": "stream",
     "text": [
      "     1 |       32 |        - |       - |  0.9000 |  2.00000 |  2.00000 | -1.488453E+00 | -5.222900E+00\n",
      "     2 |       64 |  0.29939 |       2 |  0.5922 |  2.04991 |  1.95009 | -2.259961E+00 | -5.222900E+00\n",
      "     3 |       96 |  0.06321 |       3 |  0.4400 |  2.04908 |  1.96787 | -3.476930E+00 | -6.235168E+00\n",
      "     4 |      128 | -3.2E-03 |       3 |  0.3980 |  2.03951 |  1.98776 | -4.656122E+00 | -7.868194E+00\n",
      "     5 |      160 | -6.9E-03 |       3 |  0.3957 |  2.02528 |  1.99805 | -5.707706E+00 | -8.948957E+00\n",
      "     6 |      192 | -7.0E-03 |       3 |  0.3956 |  2.01332 |  2.00891 | -6.094647E+00 | -9.061966E+00\n",
      "     7 |      224 | -1.0E-02 |       3 |  0.3936 |  2.00215 |  2.02100 | -6.678183E+00 | -9.087427E+00\n",
      "     8 |      256 | -1.3E-02 |       3 |  0.3916 |  1.99077 |  2.03000 | -7.426213E+00 | -9.709800E+00\n",
      "     9 |      288 | -7.2E-03 |       3 |  0.3955 |  1.98094 |  2.04797 | -8.429630E+00 | -1.023072E+01\n",
      "    10 |      320 | -5.9E-03 |       3 |  0.3963 |  1.96726 |  2.05607 | -9.344339E+00 | -1.091548E+01\n",
      "Best reward in : [10.91547974]\n"
     ]
    }
   ],
   "source": [
    "res = optimizer.run(\n",
    "    False, **{\n",
    "        \"seed\": 1,\n",
    "        \"termination\": (\"n_gen\", n_generations),\n",
    "        \"verbose\": True\n",
    "    })\n",
    "\n",
    "best_id = np.argmin(optimizer.history[\"F\"])\n",
    "best_x = optimizer.history[\"X\"][best_id]\n",
    "best_reward = optimizer.history[\"F\"][best_id]\n",
    "print(\"Best reward in :\", -best_reward)"
   ]
  }
 ],
 "metadata": {
  "kernelspec": {
   "display_name": "j_moves",
   "language": "python",
   "name": "python3"
  },
  "language_info": {
   "codemirror_mode": {
    "name": "ipython",
    "version": 3
   },
   "file_extension": ".py",
   "mimetype": "text/x-python",
   "name": "python",
   "nbconvert_exporter": "python",
   "pygments_lexer": "ipython3",
   "version": "3.9.18"
  }
 },
 "nbformat": 4,
 "nbformat_minor": 2
}
