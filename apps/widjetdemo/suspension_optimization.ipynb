{
 "cells": [
  {
   "cell_type": "code",
   "execution_count": null,
   "metadata": {},
   "outputs": [],
   "source": [
    "import multiprocessing\n",
    "import numpy as np\n",
    "import matplotlib.pyplot as plt\n",
    "import os\n",
    "import pinocchio as pin\n",
    "\n",
    "from pymoo.core.problem import StarmapParallelization\n",
    "from pymoo.algorithms.moo.age2 import AGEMOEA2\n",
    "from pymoo.decomposition.asf import ASF\n",
    "\n",
    "from auto_robot_design.description.utils import draw_joint_point\n",
    "from auto_robot_design.optimization.problems import MultiCriteriaProblem\n",
    "from auto_robot_design.optimization.optimizer import PymooOptimizer\n",
    "from auto_robot_design.pinokla.calc_criterion import ActuatedMass, EffectiveInertiaCompute, MovmentSurface, NeutralPoseMass, ManipJacobian\n",
    "from auto_robot_design.pinokla.criterion_agregator import CriteriaAggregator\n",
    "from auto_robot_design.pinokla.default_traj import add_auxilary_points_to_trajectory, convert_x_y_to_6d_traj_xz, get_vertical_trajectory, create_simple_step_trajectory, get_workspace_trajectory\n",
    "from auto_robot_design.optimization.rewards.reward_base import PositioningConstrain, PositioningErrorCalculator, RewardManager\n",
    "from auto_robot_design.optimization.rewards.jacobian_and_inertia_rewards import HeavyLiftingReward, MinAccelerationCapability\n",
    "from auto_robot_design.optimization.rewards.pure_jacobian_rewards import ZRRReward\n",
    "from auto_robot_design.description.builder import ParametrizedBuilder, DetailedURDFCreatorFixedEE, jps_graph2pinocchio_robot, MIT_CHEETAH_PARAMS_DICT\n",
    "from auto_robot_design.generator.topologies.graph_manager_2l import GraphManager2L, get_preset_by_index\n",
    "from auto_robot_design.generator.topologies.bounds_preset import get_preset_by_index_with_bounds\n",
    "from auto_robot_design.optimization.saver import ProblemSaver"
   ]
  },
  {
   "cell_type": "code",
   "execution_count": null,
   "metadata": {},
   "outputs": [],
   "source": [
    "thickness = MIT_CHEETAH_PARAMS_DICT[\"thickness\"]\n",
    "actuator = MIT_CHEETAH_PARAMS_DICT[\"actuator\"]\n",
    "density = MIT_CHEETAH_PARAMS_DICT[\"density\"]\n",
    "body_density = MIT_CHEETAH_PARAMS_DICT[\"body_density\"]\n",
    "\n",
    "\n",
    "builder = ParametrizedBuilder(DetailedURDFCreatorFixedEE,\n",
    "                              density={\"default\": density, \"G\": body_density},\n",
    "                              thickness={\"default\": thickness, \"EE\": 0.033},\n",
    "                              actuator={\"default\": actuator},\n",
    "                              size_ground=np.array(\n",
    "                                  MIT_CHEETAH_PARAMS_DICT[\"size_ground\"]),\n",
    "                              offset_ground=MIT_CHEETAH_PARAMS_DICT[\"offset_ground_rl\"]\n",
    "                              )"
   ]
  },
  {
   "cell_type": "code",
   "execution_count": null,
   "metadata": {},
   "outputs": [],
   "source": [
    "# 1) trajectories\n",
    "\n",
    "workspace_trajectory = convert_x_y_to_6d_traj_xz(\n",
    "    *get_workspace_trajectory([-0.12, -0.33], 0.09, 0.24, 30, 60))\n",
    "\n",
    "\n",
    "ground_symmetric_step1 = convert_x_y_to_6d_traj_xz(*add_auxilary_points_to_trajectory(create_simple_step_trajectory(\n",
    "    starting_point=[-0.11, -0.32], step_height=0.07, step_width=0.22, n_points=50)))\n",
    "\n",
    "ground_symmetric_step2 = convert_x_y_to_6d_traj_xz(*add_auxilary_points_to_trajectory(create_simple_step_trajectory(\n",
    "    starting_point=[-0.11 + 0.025, -0.32], step_height=0.06, step_width=-2*(-0.11 + 0.025), n_points=50)))\n",
    "\n",
    "ground_symmetric_step3 = convert_x_y_to_6d_traj_xz(*add_auxilary_points_to_trajectory(create_simple_step_trajectory(\n",
    "    starting_point=[-0.11 + 2 * 0.025, -0.32], step_height=0.05, step_width=-2*(-0.11 + 2 * 0.025), n_points=50)))\n",
    "\n",
    "\n",
    "central_vertical = convert_x_y_to_6d_traj_xz(\n",
    "    *add_auxilary_points_to_trajectory(get_vertical_trajectory(-0.32, 0.075, 0, 50)))\n",
    "\n",
    "left_vertical = convert_x_y_to_6d_traj_xz(\n",
    "    *add_auxilary_points_to_trajectory(get_vertical_trajectory(-0.32, 0.065, -0.09, 50)))\n",
    "\n",
    "right_vertical = convert_x_y_to_6d_traj_xz(\n",
    "    *add_auxilary_points_to_trajectory(get_vertical_trajectory(-0.32, 0.065, 0.09, 50)))\n",
    "\n",
    "\n",
    "# set up special classes for reward calculations\n",
    "error_calculator = PositioningErrorCalculator(\n",
    "    error_key='error', jacobian_key=\"Manip_Jacobian\")\n",
    "# soft_constrain = PositioningConstrain(\n",
    "#     error_calculator=error_calculator, points=[workspace_trajectory])\n",
    "soft_constrain = PositioningConstrain(error_calculator=error_calculator, points = [ground_symmetric_step1,\n",
    "                                                                                   ground_symmetric_step2,\n",
    "                                                                                   ground_symmetric_step3,\n",
    "                                                                                   central_vertical,\n",
    "                                                                                   left_vertical,\n",
    "                                                                                   right_vertical])\n",
    "\n"
   ]
  },
  {
   "cell_type": "code",
   "execution_count": null,
   "metadata": {},
   "outputs": [],
   "source": [
    "# 2) characteristics to be calculated\n",
    "# criteria that either calculated without any reference to points, or calculated through the aggregation of values from all points on trajectory\n",
    "dict_trajectory_criteria = {\n",
    "    \"MASS\": NeutralPoseMass(),\n",
    "}\n",
    "# criteria calculated for each point on the trajectory\n",
    "dict_point_criteria = {\n",
    "    \"Effective_Inertia\": EffectiveInertiaCompute(),\n",
    "    \"Actuated_Mass\": ActuatedMass(),\n",
    "    \"Manip_Jacobian\": ManipJacobian(MovmentSurface.XZ)\n",
    "}\n",
    "# special object that calculates the criteria for a robot and a trajectory\n",
    "crag = CriteriaAggregator(dict_point_criteria, dict_trajectory_criteria)"
   ]
  },
  {
   "cell_type": "code",
   "execution_count": null,
   "metadata": {},
   "outputs": [],
   "source": []
  },
  {
   "cell_type": "code",
   "execution_count": null,
   "metadata": {},
   "outputs": [],
   "source": [
    "# set the rewards and weights for the optimization task\n",
    "zrr = ZRRReward(manipulability_key='Manip_Jacobian', trajectory_key=\"traj_6d\", error_key=\"error\")"
   ]
  },
  {
   "cell_type": "code",
   "execution_count": null,
   "metadata": {},
   "outputs": [],
   "source": [
    "reward_manager = RewardManager(crag=crag)\n",
    "reward_manager.add_trajectory(ground_symmetric_step1, 0)"
   ]
  }
 ],
 "metadata": {
  "language_info": {
   "name": "python"
  }
 },
 "nbformat": 4,
 "nbformat_minor": 2
}
