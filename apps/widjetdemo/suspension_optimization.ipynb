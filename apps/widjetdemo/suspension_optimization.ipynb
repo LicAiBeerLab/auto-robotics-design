{
 "cells": [
  {
   "cell_type": "code",
   "execution_count": 1,
   "metadata": {},
   "outputs": [],
   "source": [
    "import multiprocessing\n",
    "import numpy as np\n",
    "import matplotlib.pyplot as plt\n",
    "import os\n",
    "import pinocchio as pin\n",
    "\n",
    "from pymoo.core.problem import StarmapParallelization\n",
    "from pymoo.algorithms.moo.age2 import AGEMOEA2\n",
    "from pymoo.decomposition.asf import ASF\n",
    "from pymoo.algorithms.soo.nonconvex.pso import PSO\n",
    "from auto_robot_design.description.utils import draw_joint_point\n",
    "from auto_robot_design.optimization.problems import SingleCriterionProblem\n",
    "from auto_robot_design.optimization.optimizer import PymooOptimizer\n",
    "from auto_robot_design.pinokla.calc_criterion import ActuatedMass, EffectiveInertiaCompute, MovmentSurface, NeutralPoseMass, ManipJacobian\n",
    "from auto_robot_design.pinokla.criterion_agregator import CriteriaAggregator\n",
    "from auto_robot_design.pinokla.default_traj import add_auxilary_points_to_trajectory, convert_x_y_to_6d_traj_xz, get_vertical_trajectory, create_simple_step_trajectory, get_workspace_trajectory\n",
    "from auto_robot_design.optimization.rewards.reward_base import PositioningConstrain, PositioningErrorCalculator, RewardManager\n",
    "from auto_robot_design.optimization.rewards.jacobian_and_inertia_rewards import HeavyLiftingReward, MinAccelerationCapability\n",
    "from auto_robot_design.optimization.rewards.pure_jacobian_rewards import ZRRReward\n",
    "from auto_robot_design.description.builder import ParametrizedBuilder, DetailedURDFCreatorFixedEE, jps_graph2pinocchio_robot, MIT_CHEETAH_PARAMS_DICT\n",
    "from auto_robot_design.generator.topologies.graph_manager_2l import GraphManager2L, get_preset_by_index\n",
    "from auto_robot_design.generator.topologies.bounds_preset import get_preset_by_index_with_bounds\n",
    "from auto_robot_design.optimization.saver import ProblemSaver\n",
    "\n",
    "import ipywidgets as widgets\n",
    "from IPython.display import display, clear_output, HTML\n",
    "import asyncio\n",
    "pin.seed(1)"
   ]
  },
  {
   "cell_type": "code",
   "execution_count": 2,
   "metadata": {},
   "outputs": [],
   "source": [
    "thickness = MIT_CHEETAH_PARAMS_DICT[\"thickness\"]\n",
    "actuator = MIT_CHEETAH_PARAMS_DICT[\"actuator\"]\n",
    "density = MIT_CHEETAH_PARAMS_DICT[\"density\"]\n",
    "body_density = MIT_CHEETAH_PARAMS_DICT[\"body_density\"]\n",
    "\n",
    "\n",
    "builder = ParametrizedBuilder(DetailedURDFCreatorFixedEE,\n",
    "                              density={\"default\": density, \"G\": body_density},\n",
    "                              thickness={\"default\": thickness, \"EE\": 0.033},\n",
    "                              actuator={\"default\": actuator},\n",
    "                              size_ground=np.array(\n",
    "                                  MIT_CHEETAH_PARAMS_DICT[\"size_ground\"]),\n",
    "                              offset_ground=MIT_CHEETAH_PARAMS_DICT[\"offset_ground_rl\"]\n",
    "                              )"
   ]
  },
  {
   "cell_type": "code",
   "execution_count": 3,
   "metadata": {},
   "outputs": [],
   "source": [
    "# 1) trajectories\n",
    "\n",
    "workspace_trajectory = convert_x_y_to_6d_traj_xz(\n",
    "    *get_workspace_trajectory([-0.12, -0.33], 0.09, 0.24, 30, 60))\n",
    "\n",
    "\n",
    "ground_symmetric_step1 = convert_x_y_to_6d_traj_xz(*add_auxilary_points_to_trajectory(create_simple_step_trajectory(\n",
    "    starting_point=[-0.11, -0.32], step_height=0.07, step_width=0.22, n_points=50)))\n",
    "\n",
    "ground_symmetric_step2 = convert_x_y_to_6d_traj_xz(*add_auxilary_points_to_trajectory(create_simple_step_trajectory(\n",
    "    starting_point=[-0.11 + 0.025, -0.32], step_height=0.06, step_width=-2*(-0.11 + 0.025), n_points=50)))\n",
    "\n",
    "ground_symmetric_step3 = convert_x_y_to_6d_traj_xz(*add_auxilary_points_to_trajectory(create_simple_step_trajectory(\n",
    "    starting_point=[-0.11 + 2 * 0.025, -0.32], step_height=0.05, step_width=-2*(-0.11 + 2 * 0.025), n_points=50)))\n",
    "\n",
    "\n",
    "central_vertical = convert_x_y_to_6d_traj_xz(\n",
    "    *add_auxilary_points_to_trajectory(get_vertical_trajectory(-0.32, 0.075, 0, 50)))\n",
    "\n",
    "left_vertical = convert_x_y_to_6d_traj_xz(\n",
    "    *add_auxilary_points_to_trajectory(get_vertical_trajectory(-0.32, 0.065, -0.09, 50)))\n",
    "\n",
    "right_vertical = convert_x_y_to_6d_traj_xz(\n",
    "    *add_auxilary_points_to_trajectory(get_vertical_trajectory(-0.32, 0.065, 0.09, 50)))\n",
    "\n",
    "\n",
    "# set up special classes for reward calculations\n",
    "error_calculator = PositioningErrorCalculator(\n",
    "    error_key='error', jacobian_key=\"Manip_Jacobian\")\n",
    "# soft_constrain = PositioningConstrain(\n",
    "#     error_calculator=error_calculator, points=[workspace_trajectory])\n",
    "soft_constrain = PositioningConstrain(error_calculator=error_calculator, points = [ground_symmetric_step1])\n",
    "\n"
   ]
  },
  {
   "cell_type": "code",
   "execution_count": 4,
   "metadata": {},
   "outputs": [],
   "source": [
    "# 2) characteristics to be calculated\n",
    "# criteria that either calculated without any reference to points, or calculated through the aggregation of values from all points on trajectory\n",
    "dict_trajectory_criteria = {\n",
    "    \"MASS\": NeutralPoseMass(),\n",
    "}\n",
    "# criteria calculated for each point on the trajectory\n",
    "dict_point_criteria = {\n",
    "    \"Effective_Inertia\": EffectiveInertiaCompute(),\n",
    "    \"Actuated_Mass\": ActuatedMass(),\n",
    "    \"Manip_Jacobian\": ManipJacobian(MovmentSurface.XZ)\n",
    "}\n",
    "# special object that calculates the criteria for a robot and a trajectory\n",
    "crag = CriteriaAggregator(dict_point_criteria, dict_trajectory_criteria)"
   ]
  },
  {
   "cell_type": "code",
   "execution_count": 5,
   "metadata": {},
   "outputs": [],
   "source": [
    "# set the rewards and weights for the optimization task\n",
    "zrr = ZRRReward(manipulability_key='Manip_Jacobian', trajectory_key=\"traj_6d\", error_key=\"error\")"
   ]
  },
  {
   "cell_type": "code",
   "execution_count": 6,
   "metadata": {},
   "outputs": [],
   "source": [
    "reward_manager = RewardManager(crag=crag)\n",
    "reward_manager.add_trajectory(ground_symmetric_step1, 0)\n",
    "reward_manager.add_reward(zrr, 0, 1)"
   ]
  },
  {
   "cell_type": "code",
   "execution_count": null,
   "metadata": {},
   "outputs": [],
   "source": [
    "\n"
   ]
  },
  {
   "cell_type": "code",
   "execution_count": 7,
   "metadata": {},
   "outputs": [
    {
     "data": {
      "text/plain": [
       "3"
      ]
     },
     "execution_count": 7,
     "metadata": {},
     "output_type": "execute_result"
    }
   ],
   "source": [
    "1+1+1"
   ]
  },
  {
   "cell_type": "code",
   "execution_count": 8,
   "metadata": {},
   "outputs": [],
   "source": [
    "%gui asyncio"
   ]
  },
  {
   "cell_type": "markdown",
   "metadata": {},
   "source": [
    "### First step: Choose the topology for optimization"
   ]
  },
  {
   "cell_type": "code",
   "execution_count": 15,
   "metadata": {},
   "outputs": [
    {
     "data": {
      "application/vnd.jupyter.widget-view+json": {
       "model_id": "a1d0faa6dec5454f89ae0d1a74361354",
       "version_major": 2,
       "version_minor": 0
      },
      "text/plain": [
       "SelectionSlider(continuous_update=False, description='Chose the motor position:', options=(-0.3000000000000000…"
      ]
     },
     "metadata": {},
     "output_type": "display_data"
    },
    {
     "data": {
      "application/vnd.jupyter.widget-view+json": {
       "model_id": "a51e179193d442bdac1b85c0c3d367fc",
       "version_major": 2,
       "version_minor": 0
      },
      "text/plain": [
       "Button(description='Proceed to optimization stage', layout=Layout(height='50px', width='300px'), style=ButtonS…"
      ]
     },
     "metadata": {},
     "output_type": "display_data"
    },
    {
     "data": {
      "application/vnd.jupyter.widget-view+json": {
       "model_id": "992185a1e1884113aa35ef0605ea4089",
       "version_major": 2,
       "version_minor": 0
      },
      "text/plain": [
       "Output(outputs=({'output_type': 'display_data', 'data': {'text/plain': '<Figure size 640x480 with 1 Axes>', 'i…"
      ]
     },
     "metadata": {},
     "output_type": "display_data"
    }
   ],
   "source": [
    "objects = {f'Topology_{i}': get_preset_by_index_with_bounds(i) for i in range(4)}\n",
    "\n",
    "output = widgets.Output()\n",
    "# Create the radio button widget\n",
    "radio_buttons = widgets.RadioButtons(\n",
    "    options=objects,\n",
    "    description='Choose a topology for optimization:',\n",
    "    disabled=False\n",
    ")\n",
    "\n",
    "# Define the callback function to update the plot when the selection changes\n",
    "def on_selection_change(change):\n",
    "    global gm\n",
    "    with output:\n",
    "        output.clear_output()\n",
    "        gm = change['new']\n",
    "        values = gm.generate_central_from_mutation_range()\n",
    "        draw_joint_point(gm.get_graph(values))\n",
    "        plt.show()\n",
    "\n",
    "# Set initial value to None\n",
    "radio_buttons.value = None\n",
    "\n",
    "# Attach the callback function to the radio button widget\n",
    "radio_buttons.observe(on_selection_change, names='value')\n",
    "\n",
    "# Create proceed button\n",
    "proceed_button = widgets.Button(description='Confirm choice',\n",
    "                                layout=widgets.Layout(width='300px', height='50px'))  # Set width and height)\n",
    "\n",
    "# Set initial value of the gm\n",
    "gm:GraphManager2L = get_preset_by_index_with_bounds(-1)\n",
    "\n",
    "with output:\n",
    "    draw_joint_point(gm.get_graph(gm.generate_central_from_mutation_range()))\n",
    "    plt.show()\n",
    "\n",
    "\n",
    "def on_slider_change(change):\n",
    "    with output:\n",
    "        output.clear_output()\n",
    "        values = gm.generate_central_from_mutation_range()\n",
    "        values[0] = change['new']\n",
    "        draw_joint_point(gm.get_graph(values))\n",
    "        plt.show()\n",
    "# Function to handle proceed button click\n",
    "def proceed_to_next_stage(b):\n",
    "\n",
    "    if radio_buttons.value is not None:\n",
    "        \n",
    "        radio_buttons.unobserve_all()\n",
    "        clear_output(wait=True)\n",
    "        first_key = list(gm.mutation_ranges.keys())[0]\n",
    "        joint_name = first_key[:-2]\n",
    "        values = np.linspace(gm.mutation_ranges[first_key][0],gm.mutation_ranges[first_key][1],5,endpoint=True) \n",
    "        slider = widgets.SelectionSlider(options=values, value=values[0], description='Chose the motor position:', disabled=False, continuous_update=False, orientation='horizontal', readout=True)\n",
    "        slider.observe(on_slider_change, names='value')\n",
    "        proceed_button.description = 'Proceed to optimization stage'\n",
    "\n",
    "        display(slider, proceed_button, output)\n",
    "    else:\n",
    "        with output:\n",
    "            print(\"Please make a selection first.\")\n",
    "\n",
    "proceed_button.on_click(proceed_to_next_stage)\n",
    "\n",
    "\n",
    "def proceed_to_optimization_stage(b):\n",
    "    pass\n",
    "\n",
    "\n",
    "# display(HTML(\"\"\"\n",
    "# <style>\n",
    "#     .widget-radio-box label {\n",
    "#         color: blue !important;\n",
    "#     }\n",
    "#     /* Ensure the color stays the same when an option is selected */\n",
    "#     .widget-radio-box input[type=\"radio\"]:checked + label {\n",
    "#         color: blue !important;\n",
    "#     }\n",
    "# </style>\n",
    "# \"\"\"))\n",
    "display(radio_buttons, proceed_button,output)\n",
    "\n",
    "# draw_joint_point(get_preset_by_index_with_bounds(-1).get_graph(get_preset_by_index_with_bounds(-1).generate_central_from_mutation_range()))\n",
    "# plt.show()\n",
    "\n",
    "\n",
    "\n",
    "\n",
    "\n"
   ]
  },
  {
   "cell_type": "code",
   "execution_count": 13,
   "metadata": {},
   "outputs": [
    {
     "data": {
      "text/plain": [
       "'Main_knee_2'"
      ]
     },
     "execution_count": 13,
     "metadata": {},
     "output_type": "execute_result"
    }
   ],
   "source": [
    "list(gm.mutation_ranges.keys())[0]"
   ]
  },
  {
   "cell_type": "code",
   "execution_count": null,
   "metadata": {},
   "outputs": [],
   "source": [
    "\n",
    "\n",
    "\n",
    "# # Async function to wait for the button press\n",
    "# async def wait_for_proceed():\n",
    "#     while not proceed_button.disabled:  # Keep waiting until the button is clicked\n",
    "#         await asyncio.sleep(0.1)\n",
    "\n",
    "# # Now we can use `await wait_for_proceed()` to pause execution\n",
    "# print(\"Please make a selection and press Proceed.\")\n",
    "# await wait_for_proceed()\n",
    "\n",
    "# def check_for_proceed():\n",
    "#     if proceed_button.disabled:\n",
    "#         return True\n",
    "#     return False\n",
    "\n",
    "# # Now, this will check if the proceed button was clicked\n",
    "# while not check_for_proceed():\n",
    "#     # This loop won't block the UI; it just waits for proceed_button.disabled to be True\n",
    "#     pass"
   ]
  },
  {
   "cell_type": "code",
   "execution_count": 40,
   "metadata": {},
   "outputs": [
    {
     "ename": "CancelledError",
     "evalue": "",
     "output_type": "error",
     "traceback": [
      "\u001b[1;31m---------------------------------------------------------------------------\u001b[0m",
      "\u001b[1;31mCancelledError\u001b[0m                            Traceback (most recent call last)",
      "Cell \u001b[1;32mIn[40], line 6\u001b[0m\n\u001b[0;32m      4\u001b[0m     \u001b[38;5;28;01mwhile\u001b[39;00m \u001b[38;5;129;01mnot\u001b[39;00m proceed_button\u001b[38;5;241m.\u001b[39mclicked:  \u001b[38;5;66;03m# Keep waiting until the button is clicked\u001b[39;00m\n\u001b[0;32m      5\u001b[0m         \u001b[38;5;28;01mawait\u001b[39;00m asyncio\u001b[38;5;241m.\u001b[39msleep(\u001b[38;5;241m0.01\u001b[39m)\n\u001b[1;32m----> 6\u001b[0m \u001b[38;5;28;01mawait\u001b[39;00m wait_for_proceed() \n",
      "Cell \u001b[1;32mIn[40], line 5\u001b[0m, in \u001b[0;36mwait_for_proceed\u001b[1;34m()\u001b[0m\n\u001b[0;32m      3\u001b[0m proceed_button\u001b[38;5;241m.\u001b[39mclicked \u001b[38;5;241m=\u001b[39m \u001b[38;5;28;01mFalse\u001b[39;00m\n\u001b[0;32m      4\u001b[0m \u001b[38;5;28;01mwhile\u001b[39;00m \u001b[38;5;129;01mnot\u001b[39;00m proceed_button\u001b[38;5;241m.\u001b[39mclicked:  \u001b[38;5;66;03m# Keep waiting until the button is clicked\u001b[39;00m\n\u001b[1;32m----> 5\u001b[0m     \u001b[38;5;28;01mawait\u001b[39;00m asyncio\u001b[38;5;241m.\u001b[39msleep(\u001b[38;5;241m0.01\u001b[39m)\n",
      "File \u001b[1;32md:\\Anaconda\\envs\\j_moves\\lib\\asyncio\\tasks.py:652\u001b[0m, in \u001b[0;36msleep\u001b[1;34m(delay, result, loop)\u001b[0m\n\u001b[0;32m    648\u001b[0m h \u001b[38;5;241m=\u001b[39m loop\u001b[38;5;241m.\u001b[39mcall_later(delay,\n\u001b[0;32m    649\u001b[0m                     futures\u001b[38;5;241m.\u001b[39m_set_result_unless_cancelled,\n\u001b[0;32m    650\u001b[0m                     future, result)\n\u001b[0;32m    651\u001b[0m \u001b[38;5;28;01mtry\u001b[39;00m:\n\u001b[1;32m--> 652\u001b[0m     \u001b[38;5;28;01mreturn\u001b[39;00m \u001b[38;5;28;01mawait\u001b[39;00m future\n\u001b[0;32m    653\u001b[0m \u001b[38;5;28;01mfinally\u001b[39;00m:\n\u001b[0;32m    654\u001b[0m     h\u001b[38;5;241m.\u001b[39mcancel()\n",
      "\u001b[1;31mCancelledError\u001b[0m: "
     ]
    }
   ],
   "source": [
    "# # Async function to wait for the button press\n",
    "# async def wait_for_proceed():\n",
    "#     proceed_button.clicked = False\n",
    "#     while not proceed_button.clicked:  # Keep waiting until the button is clicked\n",
    "#         await asyncio.sleep(0.01)\n",
    "# await wait_for_proceed() "
   ]
  },
  {
   "cell_type": "code",
   "execution_count": 16,
   "metadata": {},
   "outputs": [
    {
     "data": {
      "text/plain": [
       "NodeView((JointPoint(r=None, w=array([0, 1, 0]), active=True, attach_ground=True, attach_endeffector=False, name='Main_ground', instance_counter=0), JointPoint(r=None, w=array([0, 1, 0]), active=True, attach_ground=False, attach_endeffector=False, name='Main_knee', instance_counter=0), JointPoint(r=None, w=array([0, 1, 0]), active=False, attach_ground=False, attach_endeffector=True, name='Main_ee', instance_counter=0)))"
      ]
     },
     "execution_count": 16,
     "metadata": {},
     "output_type": "execute_result"
    }
   ],
   "source": [
    "# Create a FloatSlider\n",
    "slider = widgets.FloatSlider(\n",
    "    value=0.0,\n",
    "    min=-10.0,\n",
    "    max=10.0,\n",
    "    step=0.1,\n",
    "    description='Slider:',\n",
    ")\n",
    "\n",
    "# Create a FloatText widget\n",
    "text_box = widgets.FloatText(\n",
    "    value=0.0,\n",
    "    description='Value:',\n",
    ")\n",
    "\n",
    "# Link the slider and the text box\n",
    "widgets.jslink((slider, 'value'), (text_box, 'value'))\n",
    "\n",
    "# Display the slider and text box\n",
    "display(slider, text_box)\n",
    "\n",
    "get_preset_by_index_with_bounds(-1).graph.nodes"
   ]
  },
  {
   "cell_type": "code",
   "execution_count": 16,
   "metadata": {},
   "outputs": [
    {
     "data": {
      "text/plain": [
       "{'Main_knee_2': (-0.30000000000000004, -0.1),\n",
       " 'Main_connection_1_0': (-0.2, 0.2),\n",
       " 'Main_connection_1_2': (-0.6, 0.4),\n",
       " 'Main_connection_2_0': (-0.2, 0.2),\n",
       " 'Main_connection_2_2': (0.3, 0.6),\n",
       " 'branch_1_0': (-0.05, 0.1),\n",
       " 'branch_1_2': (-0.3, -0.1)}"
      ]
     },
     "execution_count": 16,
     "metadata": {},
     "output_type": "execute_result"
    }
   ],
   "source": [
    "gm.mutation_ranges "
   ]
  },
  {
   "cell_type": "code",
   "execution_count": 11,
   "metadata": {},
   "outputs": [
    {
     "data": {
      "text/plain": [
       "{'Main_knee_2': (-0.30000000000000004, -0.1),\n",
       " 'Main_connection_2_0': (-0.2, 0.2),\n",
       " 'Main_connection_2_2': (-0.3, 0.6),\n",
       " 'branch_1_0': (-0.05, 0.1),\n",
       " 'branch_1_2': (-0.3, -0.1)}"
      ]
     },
     "execution_count": 11,
     "metadata": {},
     "output_type": "execute_result"
    }
   ],
   "source": [
    "\n",
    "joint = gm.get_node_by_name(\"Ground_connection\")\n",
    "gm.freeze_joint(joint,[-0.1,0,0])\n",
    "gm.set_mutation_ranges()\n",
    "gm.mutation_ranges \n"
   ]
  },
  {
   "cell_type": "code",
   "execution_count": 13,
   "metadata": {},
   "outputs": [
    {
     "data": {
      "image/png": "[encoded data removed]",
      "text/plain": [
       "<Figure size 640x480 with 1 Axes>"
      ]
     },
     "metadata": {},
     "output_type": "display_data"
    }
   ],
   "source": [
    "draw_joint_point(gm.get_graph(gm.generate_central_from_mutation_range()))"
   ]
  },
  {
   "cell_type": "code",
   "execution_count": 14,
   "metadata": {},
   "outputs": [
    {
     "data": {
      "text/plain": [
       "<networkx.classes.graph.Graph at 0x1d05c714bb0>"
      ]
     },
     "execution_count": 14,
     "metadata": {},
     "output_type": "execute_result"
    }
   ],
   "source": [
    "get_preset_by_index_with_bounds(-1).graph       "
   ]
  },
  {
   "cell_type": "code",
   "execution_count": 34,
   "metadata": {},
   "outputs": [],
   "source": [
    "def run_optimization():\n",
    "    N_PROCESS = 8\n",
    "    pool = multiprocessing.Pool(N_PROCESS)\n",
    "    runner = StarmapParallelization(pool.starmap)\n",
    "\n",
    "    population_size = 32\n",
    "    n_generations = 50\n",
    "\n",
    "    # create the problem for the current optimization\n",
    "    problem = SingleCriterionProblem(gm, builder, reward_manager,\n",
    "                                  soft_constrain, \n",
    "                                  elementwise_runner=runner,\n",
    "                                    Actuator=actuator)\n",
    "\n",
    "    algorithm = PSO(pop_size=population_size, save_history=True)\n",
    "    optimizer = PymooOptimizer(problem, algorithm)\n",
    "    res = optimizer.run(\n",
    "        False, **{\n",
    "            \"seed\": 1,\n",
    "            \"termination\": (\"n_gen\", n_generations),\n",
    "            \"verbose\": True\n",
    "        })\n",
    "\n",
    "    best_id = np.argmin(optimizer.history[\"F\"])\n",
    "    best_x = optimizer.history[\"X\"][best_id]\n",
    "    best_reward = optimizer.history[\"F\"][best_id]\n",
    "    print(\"Best reward in :\", -best_reward)\n"
   ]
  },
  {
   "cell_type": "code",
   "execution_count": 35,
   "metadata": {},
   "outputs": [
    {
     "name": "stdout",
     "output_type": "stream",
     "text": [
      "     1 |       32 |        - |       - |  0.9000 |  2.00000 |  2.00000 | -1.488453E+00 | -5.222900E+00\n",
      "     2 |       64 |  0.29939 |       2 |  0.5922 |  2.04991 |  1.95009 | -2.259961E+00 | -5.222900E+00\n",
      "     3 |       96 |  0.06321 |       3 |  0.4400 |  2.04908 |  1.96787 | -3.476930E+00 | -6.235168E+00\n",
      "     4 |      128 | -3.2E-03 |       3 |  0.3980 |  2.03951 |  1.98776 | -4.656122E+00 | -7.868194E+00\n",
      "     5 |      160 | -6.9E-03 |       3 |  0.3957 |  2.02528 |  1.99805 | -5.707706E+00 | -8.948957E+00\n",
      "     6 |      192 | -7.0E-03 |       3 |  0.3956 |  2.01332 |  2.00891 | -6.094647E+00 | -9.061966E+00\n",
      "     7 |      224 | -1.0E-02 |       3 |  0.3936 |  2.00215 |  2.02100 | -6.678183E+00 | -9.087427E+00\n",
      "     8 |      256 | -1.3E-02 |       3 |  0.3916 |  1.99077 |  2.03000 | -7.426213E+00 | -9.709800E+00\n",
      "     9 |      288 | -7.2E-03 |       3 |  0.3955 |  1.98094 |  2.04797 | -8.429630E+00 | -1.023072E+01\n",
      "    10 |      320 | -5.9E-03 |       3 |  0.3963 |  1.96726 |  2.05607 | -9.344339E+00 | -1.091548E+01\n",
      "Best reward in : [10.91547974]\n"
     ]
    }
   ],
   "source": []
  }
 ],
 "metadata": {
  "kernelspec": {
   "display_name": "j_moves",
   "language": "python",
   "name": "python3"
  },
  "language_info": {
   "codemirror_mode": {
    "name": "ipython",
    "version": 3
   },
   "file_extension": ".py",
   "mimetype": "text/x-python",
   "name": "python",
   "nbconvert_exporter": "python",
   "pygments_lexer": "ipython3",
   "version": "3.9.18"
  }
 },
 "nbformat": 4,
 "nbformat_minor": 2
}
