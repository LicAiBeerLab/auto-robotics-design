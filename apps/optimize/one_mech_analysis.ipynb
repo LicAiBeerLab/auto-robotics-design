{
 "cells": [
  {
   "cell_type": "code",
   "execution_count": null,
   "metadata": {},
   "outputs": [],
   "source": [
    "import tkinter as tk\n",
    "from tkinter import filedialog\n",
    "\n",
    "def select_file():\n",
    "    # Create a root window\n",
    "    root = tk.Tk()\n",
    "    # Hide the root window\n",
    "    root.withdraw()\n",
    "    \n",
    "    # Open file dialog and store the selected file path\n",
    "    file_path = filedialog.askopenfilename(\n",
    "        title=\"Select a file\",\n",
    "        filetypes=[(\"All files\", \"*.*\"), (\"Text files\", \"*.txt\"), (\"Python files\", \"*.py\")]\n",
    "    )\n",
    "    \n",
    "    # Check if a file was selected\n",
    "    if file_path:\n",
    "        print(f\"Selected file: {file_path}\")\n",
    "    else:\n",
    "        print(\"No file selected\")\n",
    "\n",
    "# Call the function to open the file dialog\n",
    "select_file()"
   ]
  },
  {
   "cell_type": "code",
   "execution_count": 3,
   "metadata": {},
   "outputs": [
    {
     "name": "stdout",
     "output_type": "stream",
     "text": [
      "Selected directory: D:/work/projects/mechanism_builder/apps/optimize/results/prikol_1/topology_0_2024-07-10_15-56-19\n",
      "Resulting directory path: D:/work/projects/mechanism_builder/apps/optimize/results/prikol_1/topology_0_2024-07-10_15-56-19\n"
     ]
    }
   ],
   "source": [
    "import tkinter as tk\n",
    "from tkinter import filedialog\n",
    "\n",
    "def select_directory():\n",
    "    # Create a root window\n",
    "    root = tk.Tk()\n",
    "    # Hide the root window\n",
    "    root.withdraw()\n",
    "    \n",
    "    # Open directory dialog and store the selected directory path\n",
    "    directory_path = filedialog.askdirectory(\n",
    "        title=\"Select a directory\"\n",
    "    )\n",
    "    root.update_idletasks() \n",
    "    root.destroy()\n",
    "    # Check if a directory was selected\n",
    "    if directory_path:\n",
    "        print(f\"Selected directory: {directory_path}\")\n",
    "        return directory_path\n",
    "    else:\n",
    "        print(\"No directory selected\")\n",
    "        return None\n",
    "\n",
    "# Call the function to open the directory dialog\n",
    "selected_directory = select_directory()\n",
    "print(f\"Resulting directory path: {selected_directory}\")"
   ]
  }
 ],
 "metadata": {
  "kernelspec": {
   "display_name": "j_moves",
   "language": "python",
   "name": "python3"
  },
  "language_info": {
   "codemirror_mode": {
    "name": "ipython",
    "version": 3
   },
   "file_extension": ".py",
   "mimetype": "text/x-python",
   "name": "python",
   "nbconvert_exporter": "python",
   "pygments_lexer": "ipython3",
   "version": "3.9.18"
  }
 },
 "nbformat": 4,
 "nbformat_minor": 2
}
