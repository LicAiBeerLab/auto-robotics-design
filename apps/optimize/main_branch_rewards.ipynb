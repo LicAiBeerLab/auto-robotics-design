{
 "cells": [
  {
   "cell_type": "markdown",
   "metadata": {},
   "source": [
    "Calculation of rewards for the main branch. Currently all our mechs have the same main branch"
   ]
  },
  {
   "cell_type": "code",
   "execution_count": 41,
   "metadata": {},
   "outputs": [],
   "source": [
    "import numpy as np\n",
    "from auto_robot_design.generator.restricted_generator.two_link_generator import TwoLinkGenerator\n",
    "from auto_robot_design.pinokla.calc_criterion import (ActuatedMass, ImfCompute, ManipCompute,\n",
    "                                                      MovmentSurface, NeutralPoseMass, TranslationErrorMSE, EffectiveInertiaCompute, ManipJacobian)\n",
    "from auto_robot_design.pinokla.criterion_agregator import CriteriaAggregator\n",
    "from auto_robot_design.pinokla.criterion_math import ImfProjections\n",
    "from auto_robot_design.pinokla.default_traj import (convert_x_y_to_6d_traj_xz,\n",
    "                                                    get_simple_spline, get_vertical_trajectory, create_simple_step_trajectory)\n",
    "from auto_robot_design.optimization.rewards.reward_base import PositioningReward\n",
    "from auto_robot_design.optimization.rewards.jacobian_and_inertia_rewards import HeavyLiftingReward, AccelerationCapability\n",
    "from auto_robot_design.optimization.rewards.pure_jacobian_rewards import EndPointZRRReward, VelocityReward, ForceEllipsoidReward\n",
    "from auto_robot_design.optimization.rewards.inertia_rewards import EndPointIMFReward, MassReward\n",
    "\n",
    "from auto_robot_design.description.actuators import TMotor_AK10_9, TMotor_AK60_6, TMotor_AK70_10, TMotor_AK80_64, TMotor_AK80_9\n",
    "from auto_robot_design.description.builder import ParametrizedBuilder, DetailedURDFCreatorFixedEE\n",
    "from auto_robot_design.description.builder import jps_graph2pinocchio_robot"
   ]
  },
  {
   "cell_type": "markdown",
   "metadata": {},
   "source": [
    "#### Setup trajectories "
   ]
  },
  {
   "cell_type": "code",
   "execution_count": 42,
   "metadata": {},
   "outputs": [],
   "source": [
    "ground_symmetric_step = convert_x_y_to_6d_traj_xz(*create_simple_step_trajectory(starting_point=[-0.5, -1.02], step_height= 0.4, step_width=1,n_points=50))\n",
    "left_shift_step = convert_x_y_to_6d_traj_xz(*create_simple_step_trajectory(starting_point=[-0.8, -1.02], step_height= 0.4, step_width=1,n_points=50))\n",
    "#right_shift_step = convert_x_y_to_6d_traj_xz(*create_simple_step_trajectory(starting_point=[-0.2, -1.02], step_height= 0.4, step_width=1,n_points=50))\n",
    "\n",
    "\n",
    "central_vertical = convert_x_y_to_6d_traj_xz(*get_vertical_trajectory(-1.1, 0.6, 0,50))\n",
    "left_vertical = convert_x_y_to_6d_traj_xz(*get_vertical_trajectory(-1.1, 0.6, -0.2,50))\n",
    "#right_vertical = convert_x_y_to_6d_traj_xz(*get_vertical_trajectory(-1.1, 0.6, 0.2,50))"
   ]
  },
  {
   "cell_type": "markdown",
   "metadata": {},
   "source": [
    "#### Characteristics to be calculated"
   ]
  },
  {
   "cell_type": "code",
   "execution_count": 43,
   "metadata": {},
   "outputs": [],
   "source": [
    "# criteria that either calculated without any reference to points, or calculated through\n",
    "# the aggregation of values from all points on trajectory\n",
    "dict_trajectory_criteria = {\n",
    "    \"MASS\": NeutralPoseMass(),\n",
    "    \"POS_ERR\": TranslationErrorMSE()  # MSE of deviation from the trajectory\n",
    "}\n",
    "# criteria calculated for each point on the trajectory\n",
    "dict_point_criteria = {\n",
    "    # Impact mitigation factor along the axis\n",
    "    \"IMF\": ImfCompute(ImfProjections.Z),\n",
    "    \"MANIP\": ManipCompute(MovmentSurface.XZ),\n",
    "    \"Effective_Inertia\": EffectiveInertiaCompute(),\n",
    "    \"Actuated_Mass\": ActuatedMass(),\n",
    "    \"Manip_Jacobian\": ManipJacobian(MovmentSurface.XZ)\n",
    "}\n",
    "\n",
    "crag = CriteriaAggregator(dict_point_criteria, dict_trajectory_criteria)"
   ]
  },
  {
   "cell_type": "markdown",
   "metadata": {},
   "source": [
    "#### set the rewards and weights"
   ]
  },
  {
   "cell_type": "code",
   "execution_count": 44,
   "metadata": {},
   "outputs": [],
   "source": [
    "rewards_step = [(PositioningReward(pos_error_key=\"POS_ERR\"), 1), (AccelerationCapability(manipulability_key='Manip_Jacobian',\n",
    "            trajectory_key=\"traj_6d\", error_key=\"error\", actuated_mass_key=\"Actuated_Mass\"), 1), (EndPointIMFReward(imf_key='IMF',\n",
    "            trajectory_key=\"traj_6d\", error_key=\"error\"), 1)]\n",
    "\n",
    "#step_trajectories = [ground_symmetric_step, left_shift_step, right_shift_step]\n",
    "step_trajectories = [ground_symmetric_step]\n",
    "rewards_vertical = [(PositioningReward(pos_error_key=\"POS_ERR\"), 1),\n",
    "           (HeavyLiftingReward(manipulability_key='Manip_Jacobian',\n",
    "            trajectory_key=\"traj_6d\", error_key=\"error\", mass_key=\"MASS\"), 1)]\n",
    "#vertical_trajectories = [central_vertical, left_vertical, right_vertical]\n",
    "vertical_trajectories = [central_vertical, left_vertical]\n",
    "# rewards = [(PositioningReward(pos_error_key=\"POS_ERR\"), 1),\n",
    "#            (HeavyLiftingReward(manipulability_key='Manip_Jacobian',\n",
    "#             trajectory_key=\"traj_6d\", error_key=\"error\", mass_key=\"MASS\"), 1),\n",
    "#            (AccelerationCapability(manipulability_key='Manip_Jacobian',\n",
    "#             trajectory_key=\"traj_6d\", error_key=\"error\", actuated_mass_key=\"Actuated_Mass\"), 1),\n",
    "#            (EndPointZRRReward(manipulability_key='Manip_Jacobian',\n",
    "#             trajectory_key=\"traj_6d\", error_key=\"error\"), 1),\n",
    "#            (VelocityReward(manipulability_key='Manip_Jacobian',\n",
    "#             trajectory_key=\"traj_6d\", error_key=\"error\"), 1),\n",
    "#            (EndPointIMFReward(imf_key='IMF',\n",
    "#             trajectory_key=\"traj_6d\", error_key=\"error\"), 1),\n",
    "#            (ForceEllipsoidReward(manipulability_key='Manip_Jacobian',\n",
    "#             trajectory_key=\"traj_6d\", error_key=\"error\"), 1),\n",
    "#            (MassReward(mass_key=\"MASS\"), 1)\n",
    "#            ]"
   ]
  },
  {
   "cell_type": "code",
   "execution_count": 45,
   "metadata": {},
   "outputs": [],
   "source": [
    "actuator_list = [TMotor_AK10_9(), TMotor_AK60_6(), TMotor_AK70_10(), TMotor_AK80_64(), TMotor_AK80_9()]\n",
    "generator = TwoLinkGenerator()\n",
    "generator.build_standard_two_linker()\n",
    "graph = generator.graph\n",
    "# open chain is fully actuated\n",
    "for jp in graph.nodes:\n",
    "    if not jp.attach_endeffector:\n",
    "        jp.active = True\n",
    "\n",
    "rewards_and_trajectories = [(rewards_step, step_trajectories),(rewards_vertical, vertical_trajectories)] \n"
   ]
  },
  {
   "cell_type": "code",
   "execution_count": 46,
   "metadata": {},
   "outputs": [
    {
     "name": "stdout",
     "output_type": "stream",
     "text": [
      "{'TMotor_AK10_9': 48.00715940450545, 'TMotor_AK60_6': 11.012434154257727, 'TMotor_AK70_10': 28.545807631876844, 'TMotor_AK80_64': 83.40555452569498, 'TMotor_AK80_9': 20.371855871804183}\n"
     ]
    }
   ],
   "source": [
    "result_vector = {}\n",
    "for j in actuator_list:\n",
    "    # create builder\n",
    "    thickness = 0.04\n",
    "    builder = ParametrizedBuilder(DetailedURDFCreatorFixedEE, size_ground=np.array(\n",
    "        [thickness*5, thickness*10, thickness*2]), actuator=j, thickness=thickness)\n",
    "\n",
    "    fixed_robot, free_robot = jps_graph2pinocchio_robot(graph, builder)\n",
    "\n",
    "    crag = CriteriaAggregator(\n",
    "        dict_point_criteria, dict_trajectory_criteria)\n",
    "\n",
    "    total_reward=0\n",
    "    partial_rewards = []\n",
    "    for rewards, trajectories in rewards_and_trajectories:\n",
    "        max_reward = -float('inf')\n",
    "        max_partial = None\n",
    "        best_trajectory = None\n",
    "        for trajectory_id, trajectory in enumerate(trajectories):\n",
    "            point_criteria_vector, trajectory_criteria, res_dict_fixed = crag.get_criteria_data(fixed_robot, free_robot, trajectory)\n",
    "            current_total = 0\n",
    "            current_partial = []\n",
    "            for reward, weight in rewards:\n",
    "                current_partial.append(reward.calculate(point_criteria_vector, trajectory_criteria, res_dict_fixed, Actuator=j)[0])\n",
    "                current_total += weight*current_partial[-1]\n",
    "            if current_total > max_reward:\n",
    "                max_reward = current_total\n",
    "                max_partial = current_partial\n",
    "                best_trajectory_id = trajectory_id\n",
    "        total_reward+= max_reward\n",
    "        partial_rewards.append((best_trajectory_id, max_partial))\n",
    "\n",
    "    result_vector[j.__class__.__name__] = total_reward\n",
    "\n",
    "print(result_vector)"
   ]
  }
 ],
 "metadata": {
  "kernelspec": {
   "display_name": "j_moves",
   "language": "python",
   "name": "python3"
  },
  "language_info": {
   "codemirror_mode": {
    "name": "ipython",
    "version": 3
   },
   "file_extension": ".py",
   "mimetype": "text/x-python",
   "name": "python",
   "nbconvert_exporter": "python",
   "pygments_lexer": "ipython3",
   "version": "3.9.18"
  }
 },
 "nbformat": 4,
 "nbformat_minor": 2
}
